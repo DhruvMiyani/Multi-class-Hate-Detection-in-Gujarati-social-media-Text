{
 "cells": [
  {
   "cell_type": "markdown",
   "metadata": {},
   "source": [
    "# HateSpeech Detection in Gujarati Language"
   ]
  },
  {
   "cell_type": "markdown",
   "metadata": {},
   "source": [
    "## Imports"
   ]
  },
  {
   "cell_type": "code",
   "execution_count": 1,
   "metadata": {},
   "outputs": [],
   "source": [
    "import pandas as pd\n",
    "import numpy as np\n",
    "import re\n",
    "import emoji\n",
    "import string\n",
    "import csv\n",
    "from nltk.tokenize import word_tokenize\n",
    "from sklearn.feature_extraction.text import CountVectorizer\n",
    "from sklearn.feature_extraction.text import TfidfVectorizer\n",
    "from sklearn import model_selection\n",
    "from sklearn.model_selection import train_test_split\n",
    "from sklearn.naive_bayes import GaussianNB\n",
    "from sklearn import datasets\n",
    "from sklearn import metrics\n",
    "from sklearn.linear_model import LogisticRegression\n",
    "from sklearn.preprocessing import StandardScaler\n",
    "from sklearn.neighbors import KNeighborsClassifier\n",
    "from sklearn.preprocessing import MultiLabelBinarizer\n",
    "from sklearn.linear_model import SGDClassifier\n",
    "from sklearn.linear_model import LogisticRegression\n",
    "from sklearn.svm import LinearSVC\n",
    "from sklearn.metrics import accuracy_score\n",
    "\n",
    "from sklearn.multiclass import OneVsRestClassifier\n",
    "import matplotlib.pyplot as plt \n",
    "import pickle\n",
    "import ast"
   ]
  },
  {
   "cell_type": "code",
   "execution_count": null,
   "metadata": {
    "scrolled": false
   },
   "outputs": [],
   "source": []
  },
  {
   "cell_type": "code",
   "execution_count": null,
   "metadata": {},
   "outputs": [],
   "source": []
  },
  {
   "cell_type": "markdown",
   "metadata": {},
   "source": [
    "## DataSet"
   ]
  },
  {
   "cell_type": "code",
   "execution_count": 2,
   "metadata": {},
   "outputs": [
    {
     "data": {
      "text/html": [
       "<div>\n",
       "<style scoped>\n",
       "    .dataframe tbody tr th:only-of-type {\n",
       "        vertical-align: middle;\n",
       "    }\n",
       "\n",
       "    .dataframe tbody tr th {\n",
       "        vertical-align: top;\n",
       "    }\n",
       "\n",
       "    .dataframe thead th {\n",
       "        text-align: right;\n",
       "    }\n",
       "</style>\n",
       "<table border=\"1\" class=\"dataframe\">\n",
       "  <thead>\n",
       "    <tr style=\"text-align: right;\">\n",
       "      <th></th>\n",
       "      <th>ID</th>\n",
       "      <th>Post</th>\n",
       "      <th>Labels</th>\n",
       "      <th>Simple_Labels</th>\n",
       "      <th>SubCategory</th>\n",
       "      <th>Simple_Labels,SubCategory</th>\n",
       "      <th>MainCategory</th>\n",
       "      <th>SubCategory.1</th>\n",
       "    </tr>\n",
       "  </thead>\n",
       "  <tbody>\n",
       "    <tr>\n",
       "      <th>0</th>\n",
       "      <td>1</td>\n",
       "      <td>બંન્ને કેવી ગાળો બોલે .. કોય ને સાથ ના આપતા..આ...</td>\n",
       "      <td>\"Non-Hate\",\"Neutral\"</td>\n",
       "      <td>Non-Hate</td>\n",
       "      <td>Neutral</td>\n",
       "      <td>Non-Hate,Neutral</td>\n",
       "      <td>\"Non-Hate\"</td>\n",
       "      <td>\"Neutral\"</td>\n",
       "    </tr>\n",
       "    <tr>\n",
       "      <th>1</th>\n",
       "      <td>2</td>\n",
       "      <td>જય જય ગરવી ગુજરાત</td>\n",
       "      <td>\"Non-Hate\",\"Positive\"</td>\n",
       "      <td>Non-Hate</td>\n",
       "      <td>Positive</td>\n",
       "      <td>Non-Hate,Positive</td>\n",
       "      <td>\"Non-Hate\"</td>\n",
       "      <td>\"Positive\"</td>\n",
       "    </tr>\n",
       "    <tr>\n",
       "      <th>2</th>\n",
       "      <td>3</td>\n",
       "      <td>કચ્છમાં ખંડણી માટે ફાયરિંગ કરીને હત્યા નિપજાવા...</td>\n",
       "      <td>\"Non-Hate\",\"Neutral\"</td>\n",
       "      <td>Non-Hate</td>\n",
       "      <td>Neutral</td>\n",
       "      <td>Non-Hate,Neutral</td>\n",
       "      <td>\"Non-Hate\"</td>\n",
       "      <td>\"Neutral\"</td>\n",
       "    </tr>\n",
       "    <tr>\n",
       "      <th>3</th>\n",
       "      <td>4</td>\n",
       "      <td>આજે સમગ્ર વિસ્તારમાં ઠંડકનો માહોલ જોવા મળ્યો હ...</td>\n",
       "      <td>\"Non-Hate\",\"Positive\"</td>\n",
       "      <td>Non-Hate</td>\n",
       "      <td>Positive</td>\n",
       "      <td>Non-Hate,Positive</td>\n",
       "      <td>\"Non-Hate\"</td>\n",
       "      <td>\"Positive\"</td>\n",
       "    </tr>\n",
       "    <tr>\n",
       "      <th>4</th>\n",
       "      <td>5</td>\n",
       "      <td>પાટીદાર અનામત આંદોલનકારીઓએ હવે રાજય સરકાર સામે...</td>\n",
       "      <td>\"Non-Hate\",\"Neutral\"</td>\n",
       "      <td>Non-Hate</td>\n",
       "      <td>Neutral</td>\n",
       "      <td>Non-Hate,Neutral</td>\n",
       "      <td>\"Non-Hate\"</td>\n",
       "      <td>\"Neutral\"</td>\n",
       "    </tr>\n",
       "  </tbody>\n",
       "</table>\n",
       "</div>"
      ],
      "text/plain": [
       "  ID                                               Post  \\\n",
       "0  1  બંન્ને કેવી ગાળો બોલે .. કોય ને સાથ ના આપતા..આ...   \n",
       "1  2                                  જય જય ગરવી ગુજરાત   \n",
       "2  3  કચ્છમાં ખંડણી માટે ફાયરિંગ કરીને હત્યા નિપજાવા...   \n",
       "3  4  આજે સમગ્ર વિસ્તારમાં ઠંડકનો માહોલ જોવા મળ્યો હ...   \n",
       "4  5  પાટીદાર અનામત આંદોલનકારીઓએ હવે રાજય સરકાર સામે...   \n",
       "\n",
       "                  Labels Simple_Labels SubCategory Simple_Labels,SubCategory  \\\n",
       "0   \"Non-Hate\",\"Neutral\"      Non-Hate     Neutral          Non-Hate,Neutral   \n",
       "1  \"Non-Hate\",\"Positive\"      Non-Hate    Positive         Non-Hate,Positive   \n",
       "2   \"Non-Hate\",\"Neutral\"      Non-Hate     Neutral          Non-Hate,Neutral   \n",
       "3  \"Non-Hate\",\"Positive\"      Non-Hate    Positive         Non-Hate,Positive   \n",
       "4   \"Non-Hate\",\"Neutral\"      Non-Hate     Neutral          Non-Hate,Neutral   \n",
       "\n",
       "  MainCategory SubCategory.1  \n",
       "0   \"Non-Hate\"     \"Neutral\"  \n",
       "1   \"Non-Hate\"    \"Positive\"  \n",
       "2   \"Non-Hate\"     \"Neutral\"  \n",
       "3   \"Non-Hate\"    \"Positive\"  \n",
       "4   \"Non-Hate\"     \"Neutral\"  "
      ]
     },
     "execution_count": 2,
     "metadata": {},
     "output_type": "execute_result"
    }
   ],
   "source": [
    "data = pd.read_csv(r'C:\\Users\\Dhruv.DHRUVPC\\Gujarati_NLP.csv')\n",
    "data.head()"
   ]
  },
  {
   "cell_type": "code",
   "execution_count": 3,
   "metadata": {},
   "outputs": [
    {
     "data": {
      "text/plain": [
       "str"
      ]
     },
     "execution_count": 3,
     "metadata": {},
     "output_type": "execute_result"
    }
   ],
   "source": [
    "type(data['Labels'].iloc[1])"
   ]
  },
  {
   "cell_type": "code",
   "execution_count": 4,
   "metadata": {},
   "outputs": [
    {
     "data": {
      "text/plain": [
       "'જય જય ગરવી ગુજરાત'"
      ]
     },
     "execution_count": 4,
     "metadata": {},
     "output_type": "execute_result"
    }
   ],
   "source": [
    "data[\"Post\"][1]"
   ]
  },
  {
   "cell_type": "markdown",
   "metadata": {},
   "source": [
    "## Text Cleanning - Data Pre-Processing"
   ]
  },
  {
   "cell_type": "code",
   "execution_count": 5,
   "metadata": {},
   "outputs": [],
   "source": [
    "STOPWORDS = ['અથવા', 'અને', 'અમને', 'અમારું', 'અમે ', 'અહીં', 'આ ', 'આગળ', 'આથી', 'આનું', 'આને', 'આપણને', 'આપણું', 'આપણે',\n",
    "             'આપી', 'આવી', 'આવે', 'ઉપર', 'ઊંચે', 'ઊભું', 'એ', 'એક','એના','એનાં','એની','એનું','એને','એનો','એમ','એવા','એવાં',\n",
    "             'એવી','એવું','એવો','ઓછું','અંગે','અંદર','કઈ','કયું','કયો','કરવું','કરતાં','કરી','કરીએ','કરું','કરે','કરેલું', 'કર્યા','કર્યાં','કર્યું',\n",
    "             'કર્યો','કંઈક','કાંઈ','કે','કેટલું','કેમ','કેવી','કેવું ','કોઈ','કોઈક','કોણ','કોણે','કોને','ક્યારે','ક્યાં','ખૂબ ','ગઈ ','ગયા ','ગયાં'\n",
    "             ,'ગયું ','ગયો','ઘણું','છ ','છતાં','છીએ', 'છું ','છે','છેક','છો','જ','જાય','જી','જે','જેટલું','જેને','જેમ','જેવી','જેવું','જેવો','જો',\n",
    "             'જોઈએ','જ્યારે','જ્યાં ','ઝાઝું','તને ','તમને','તમારું' ,'તમે ','તારાથી ','તારામાં','તારું','તું ','તે ','તેઓ ','તેથી ','તેણે ','તેના '\n",
    "             ,'તેની','તેનું ','તેને','તેમ','તેમનું','તેમને','તેવી','તેવું','તેં','તો ','ત્યારે','ત્યાં','થઈ','થઈએ' ,'થતા ','થતાં','થતી ','થતું','થતો',\n",
    "             'થયા ','થયાં','થયું ','થયો','થયેલું','થવું ','થાઉં','થાઓ','થાય','થોડું','દરેક','ન','નથી' ,'નહિ' ,'નહીં' ,'નં.' ,'ના' ,'નીચે' ,\n",
    "             'ને' ,'પછી' ,'પણ' ,'પર' ,'પરંતુ','પહેલાં','પાછળ' ,'પાસે' ,'પોતાનું' ,'પ્રત્યેક' ,'ફક્ત' ,'ફરી' ,'ફરીથી' ,'બધા' ,'બધું','બની' ,\n",
    "             'બહાર' ,'બહુ' ,'બંને' ,'બાદ' ,'બે' ,'મને' ,'મા' ,'માટે' ,'માત્ર' ,'મારું' ',મૂકવું' ',મૂકી' ',મૂક્યા' ',મૂક્યાં' ,'મૂક્યું' ,'મેં' ,'રહી',\n",
    "             'રહે' ,'રહેવું','રહ્યા','રહ્યાં','રહ્યો' ,'રીતે' ,'રૂ.','લેતા','લેતું' ,'લેવા','વગેરે' ,'વધુ' ,'શકે' ,'શા' ,'શું' ,'સરખું' ,'સામે' ,'સુધી'\n",
    "             ,'હતા' ,'હતાં' ,'હતી' ,'હતું' ,'હશે','હશો' ,'હવે' ,'હા' ,'હું','હો' ,'હોઈ' ,'હોઈશ' ,'હોઈશું' ,'હોય','હોવા','+',  'ોરોના', '્ઓલખી', 'ૐ', '૦૪', '૧', '૧માંથી', '૧મૈજર', '૧૦', '૧૦૦', '૧૦૦૦', '૧૦૦૦રુ', '૧૦૦૧૦૦', '૧૦૯', '૧૧૦','%', '&', \"''\", '(', ')', '+સિકયુરિટ', ';', '<', '>', '``', 'à', 'अकाउंट', 'असली', 'आरंमिहु', 'औरंगजेब', 'काम', 'जयहींद', 'थी', 'ने', 'पर', 'बदले', 'भाई', 'मतलब', 'मालिक','અ', 'मे', 'या', 'वर्ष', 'वाह', 'साथ', '૧૨', '૧૨૦કૅરોર', '૧૩૦', '૧૩૫', '૧૪', '૧૫', '૧૫લાખ', '૧૫૦', '૧૬', '૧૮૮', '૧૯૮૦', '૨', '૨૦', '૨૦૦', '૨૦૧૨', '૨૦૧૩', '૨૦૧૪', '૨૦૧૫', '૨૦૧૭', '૨૦૧૮', '૨૦૧૯', '૨૦૨૨', '૨૦૨૯', '૨૨', '૨૩', '૨૪', '૨૫', '૨૬', '૨૬૯', '૨૭', '૨૭૦', '૨૮૦', '૩', '૩ર્ડ', '૩૦', '૩૦૦', '૩૧', '૩૧ડીસેમ્બર', '૩૩૫', '૩૫', '૩૫૦૦', '૩૫૪૦', '૪', '૪૦', '૪૧', '૪૫', '૪૫૦', '૫', '૫૦', '૫૦૦', '૫૬', '૬', '૬૦', '૬૦૬૫', '૭', '૭૪', '૮થી', '૮૦૦', '૮૫૦', '૯', '૯૦', '૯૦૦', '૯૭', '૯૮', '\\u200bપેટની', '\\u200bભોસરો', '\\u200c', '\\u200cઆવા', '\\u200cએક', '\\u200cએટલ', '\\u200cકરતા', '\\u200cકરાઈ', '\\u200cકરાવે', '\\u200cકાઢવાનો', '\\u200cટાગોર', '\\u200cતમારે', '\\u200cતે', '\\u200cથાવી', '\\u200cનથી', '\\u200cને', '\\u200cપોતાના', '\\u200cબરાબર', 'ધંધ\\u200dે', 'ધ',  'નાથી\\u200e', '\\u200cભાવનગર', '\\u200cમોધવારી', '\\u200cસાચૂ', '\\u200c\\u200c', '\\u200e', '\\u200eઆર્મી', '\\u200eપોલીસ', '\\u200eફેકો', '‘', '’', '“', '”', '₹', '₹પપ્પુ', '₹૫૦૦૦૦', '℅', '●','છે૧૦૦૦', 'છે\\u200e', 'છૈ', 'છેં', 'છેઃ','થ્યા', 'થ\\u200cઈ', 'દ',]\n",
    "            "
   ]
  },
  {
   "cell_type": "code",
   "execution_count": 6,
   "metadata": {},
   "outputs": [],
   "source": [
    "def stopword_removal(new_post):\n",
    "    tokens = word_tokenize(new_post)\n",
    "    stopword_remove_row = [word for word in tokens if word not in STOPWORDS]\n",
    "    return stopword_remove_row"
   ]
  },
  {
   "cell_type": "code",
   "execution_count": 7,
   "metadata": {},
   "outputs": [],
   "source": [
    "def emojis_removal(post):\n",
    "    list1 = []\n",
    "    for i in post:\n",
    "        allchars = [str for str in i]\n",
    "        emoji_list = [c for c in allchars if c in emoji.UNICODE_EMOJI]\n",
    "        clean_text = ' '.join([str for str in i.split() if not any(i in str for i in emoji_list)])\n",
    "        list1.append(clean_text)\n",
    "    return list1"
   ]
  },
  {
   "cell_type": "code",
   "execution_count": 8,
   "metadata": {},
   "outputs": [],
   "source": [
    "def puncuation_removal(list):\n",
    "    list2 = []\n",
    "    for i in list:\n",
    "        new_str = re.sub(r'[a-zA-Z0-9\\n\\',.#@_:…।?/|!$*-]', r'',i)\n",
    "        list2.append(new_str)\n",
    "    return list2"
   ]
  },
  {
   "cell_type": "code",
   "execution_count": 9,
   "metadata": {},
   "outputs": [],
   "source": [
    "post = data[\"Post\"]\n",
    "new_post = emojis_removal(post)\n",
    "post1 = puncuation_removal(new_post)\n"
   ]
  },
  {
   "cell_type": "code",
   "execution_count": null,
   "metadata": {},
   "outputs": [],
   "source": []
  },
  {
   "cell_type": "code",
   "execution_count": 10,
   "metadata": {},
   "outputs": [],
   "source": [
    "data_x = post1\n",
    "#data_x =post\n",
    "data_y = data[\"Labels\"]\n"
   ]
  },
  {
   "cell_type": "code",
   "execution_count": 11,
   "metadata": {},
   "outputs": [
    {
     "data": {
      "text/plain": [
       "5498"
      ]
     },
     "execution_count": 11,
     "metadata": {},
     "output_type": "execute_result"
    }
   ],
   "source": [
    "len(data_x)"
   ]
  },
  {
   "cell_type": "code",
   "execution_count": 12,
   "metadata": {},
   "outputs": [
    {
     "data": {
      "text/plain": [
       "5498"
      ]
     },
     "execution_count": 12,
     "metadata": {},
     "output_type": "execute_result"
    }
   ],
   "source": [
    "len(data_y)"
   ]
  },
  {
   "cell_type": "code",
   "execution_count": 13,
   "metadata": {},
   "outputs": [
    {
     "data": {
      "text/plain": [
       "0     \"Non-Hate\",\"Neutral\"\n",
       "1    \"Non-Hate\",\"Positive\"\n",
       "2     \"Non-Hate\",\"Neutral\"\n",
       "3    \"Non-Hate\",\"Positive\"\n",
       "4     \"Non-Hate\",\"Neutral\"\n",
       "Name: Labels, dtype: object"
      ]
     },
     "execution_count": 13,
     "metadata": {},
     "output_type": "execute_result"
    }
   ],
   "source": [
    "data_y.head()"
   ]
  },
  {
   "cell_type": "code",
   "execution_count": 14,
   "metadata": {},
   "outputs": [
    {
     "data": {
      "text/plain": [
       "list"
      ]
     },
     "execution_count": 14,
     "metadata": {},
     "output_type": "execute_result"
    }
   ],
   "source": [
    "type(data_x)"
   ]
  },
  {
   "cell_type": "code",
   "execution_count": 15,
   "metadata": {},
   "outputs": [],
   "source": [
    "data_dict = { \n",
    "    \n",
    "    \"post\": data_x,\n",
    "    \"labels\": data_y,   \n",
    "}"
   ]
  },
  {
   "cell_type": "code",
   "execution_count": 16,
   "metadata": {},
   "outputs": [
    {
     "data": {
      "text/plain": [
       "dict"
      ]
     },
     "execution_count": 16,
     "metadata": {},
     "output_type": "execute_result"
    }
   ],
   "source": [
    "type(data_dict)"
   ]
  },
  {
   "cell_type": "code",
   "execution_count": null,
   "metadata": {},
   "outputs": [],
   "source": []
  },
  {
   "cell_type": "code",
   "execution_count": 17,
   "metadata": {},
   "outputs": [
    {
     "data": {
      "text/html": [
       "<div>\n",
       "<style scoped>\n",
       "    .dataframe tbody tr th:only-of-type {\n",
       "        vertical-align: middle;\n",
       "    }\n",
       "\n",
       "    .dataframe tbody tr th {\n",
       "        vertical-align: top;\n",
       "    }\n",
       "\n",
       "    .dataframe thead th {\n",
       "        text-align: right;\n",
       "    }\n",
       "</style>\n",
       "<table border=\"1\" class=\"dataframe\">\n",
       "  <thead>\n",
       "    <tr style=\"text-align: right;\">\n",
       "      <th></th>\n",
       "      <th>post</th>\n",
       "      <th>labels</th>\n",
       "    </tr>\n",
       "  </thead>\n",
       "  <tbody>\n",
       "    <tr>\n",
       "      <th>0</th>\n",
       "      <td>બંન્ને કેવી ગાળો બોલે  કોય ને સાથ ના આપતાઆપડે ...</td>\n",
       "      <td>\"Non-Hate\",\"Neutral\"</td>\n",
       "    </tr>\n",
       "    <tr>\n",
       "      <th>1</th>\n",
       "      <td>જય જય ગરવી ગુજરાત</td>\n",
       "      <td>\"Non-Hate\",\"Positive\"</td>\n",
       "    </tr>\n",
       "    <tr>\n",
       "      <th>2</th>\n",
       "      <td>કચ્છમાં ખંડણી માટે ફાયરિંગ કરીને હત્યા નિપજાવા...</td>\n",
       "      <td>\"Non-Hate\",\"Neutral\"</td>\n",
       "    </tr>\n",
       "    <tr>\n",
       "      <th>3</th>\n",
       "      <td>આજે સમગ્ર વિસ્તારમાં ઠંડકનો માહોલ જોવા મળ્યો હ...</td>\n",
       "      <td>\"Non-Hate\",\"Positive\"</td>\n",
       "    </tr>\n",
       "    <tr>\n",
       "      <th>4</th>\n",
       "      <td>પાટીદાર અનામત આંદોલનકારીઓએ હવે રાજય સરકાર સામે...</td>\n",
       "      <td>\"Non-Hate\",\"Neutral\"</td>\n",
       "    </tr>\n",
       "  </tbody>\n",
       "</table>\n",
       "</div>"
      ],
      "text/plain": [
       "                                                post                 labels\n",
       "0  બંન્ને કેવી ગાળો બોલે  કોય ને સાથ ના આપતાઆપડે ...   \"Non-Hate\",\"Neutral\"\n",
       "1                                  જય જય ગરવી ગુજરાત  \"Non-Hate\",\"Positive\"\n",
       "2  કચ્છમાં ખંડણી માટે ફાયરિંગ કરીને હત્યા નિપજાવા...   \"Non-Hate\",\"Neutral\"\n",
       "3  આજે સમગ્ર વિસ્તારમાં ઠંડકનો માહોલ જોવા મળ્યો હ...  \"Non-Hate\",\"Positive\"\n",
       "4  પાટીદાર અનામત આંદોલનકારીઓએ હવે રાજય સરકાર સામે...   \"Non-Hate\",\"Neutral\""
      ]
     },
     "execution_count": 17,
     "metadata": {},
     "output_type": "execute_result"
    }
   ],
   "source": [
    "data_new = pd.DataFrame(data_dict)\n",
    "data_new.head()"
   ]
  },
  {
   "cell_type": "code",
   "execution_count": null,
   "metadata": {},
   "outputs": [],
   "source": []
  },
  {
   "cell_type": "code",
   "execution_count": 18,
   "metadata": {},
   "outputs": [
    {
     "data": {
      "text/plain": [
       "('Non-Hate', 'Neutral')"
      ]
     },
     "execution_count": 18,
     "metadata": {},
     "output_type": "execute_result"
    }
   ],
   "source": [
    "ast.literal_eval(str(data_new['labels'].iloc[0]))"
   ]
  },
  {
   "cell_type": "code",
   "execution_count": 19,
   "metadata": {},
   "outputs": [],
   "source": [
    "data_new['labels'] = data_new['labels'].apply(lambda x:ast.literal_eval(x))\n"
   ]
  },
  {
   "cell_type": "code",
   "execution_count": null,
   "metadata": {},
   "outputs": [],
   "source": []
  },
  {
   "cell_type": "code",
   "execution_count": null,
   "metadata": {},
   "outputs": [],
   "source": []
  },
  {
   "cell_type": "code",
   "execution_count": null,
   "metadata": {},
   "outputs": [],
   "source": []
  },
  {
   "cell_type": "markdown",
   "metadata": {},
   "source": [
    "## MultiLabelBinarizer"
   ]
  },
  {
   "cell_type": "code",
   "execution_count": 20,
   "metadata": {},
   "outputs": [],
   "source": [
    "multilabel = MultiLabelBinarizer()"
   ]
  },
  {
   "cell_type": "code",
   "execution_count": 21,
   "metadata": {},
   "outputs": [],
   "source": [
    "y = multilabel.fit_transform(data_new['labels'])"
   ]
  },
  {
   "cell_type": "code",
   "execution_count": 22,
   "metadata": {},
   "outputs": [
    {
     "data": {
      "text/plain": [
       "array([[0, 0, 1, ..., 0, 0, 0],\n",
       "       [0, 0, 0, ..., 0, 0, 0],\n",
       "       [0, 0, 1, ..., 0, 0, 0],\n",
       "       ...,\n",
       "       [0, 1, 0, ..., 0, 0, 1],\n",
       "       [0, 1, 0, ..., 1, 0, 0],\n",
       "       [1, 1, 0, ..., 0, 0, 0]])"
      ]
     },
     "execution_count": 22,
     "metadata": {},
     "output_type": "execute_result"
    }
   ],
   "source": [
    "y"
   ]
  },
  {
   "cell_type": "code",
   "execution_count": 23,
   "metadata": {},
   "outputs": [
    {
     "data": {
      "text/plain": [
       "array(['Accusations', 'Hate', 'Neutral', 'Non-Hate', 'Positive',\n",
       "       'Promoting violence', 'Sexist', 'Swearing'], dtype=object)"
      ]
     },
     "execution_count": 23,
     "metadata": {},
     "output_type": "execute_result"
    }
   ],
   "source": [
    "multilabel.classes_"
   ]
  },
  {
   "cell_type": "code",
   "execution_count": 24,
   "metadata": {},
   "outputs": [
    {
     "data": {
      "text/html": [
       "<div>\n",
       "<style scoped>\n",
       "    .dataframe tbody tr th:only-of-type {\n",
       "        vertical-align: middle;\n",
       "    }\n",
       "\n",
       "    .dataframe tbody tr th {\n",
       "        vertical-align: top;\n",
       "    }\n",
       "\n",
       "    .dataframe thead th {\n",
       "        text-align: right;\n",
       "    }\n",
       "</style>\n",
       "<table border=\"1\" class=\"dataframe\">\n",
       "  <thead>\n",
       "    <tr style=\"text-align: right;\">\n",
       "      <th></th>\n",
       "      <th>Accusations</th>\n",
       "      <th>Hate</th>\n",
       "      <th>Neutral</th>\n",
       "      <th>Non-Hate</th>\n",
       "      <th>Positive</th>\n",
       "      <th>Promoting violence</th>\n",
       "      <th>Sexist</th>\n",
       "      <th>Swearing</th>\n",
       "    </tr>\n",
       "  </thead>\n",
       "  <tbody>\n",
       "    <tr>\n",
       "      <th>0</th>\n",
       "      <td>0</td>\n",
       "      <td>0</td>\n",
       "      <td>1</td>\n",
       "      <td>1</td>\n",
       "      <td>0</td>\n",
       "      <td>0</td>\n",
       "      <td>0</td>\n",
       "      <td>0</td>\n",
       "    </tr>\n",
       "    <tr>\n",
       "      <th>1</th>\n",
       "      <td>0</td>\n",
       "      <td>0</td>\n",
       "      <td>0</td>\n",
       "      <td>1</td>\n",
       "      <td>1</td>\n",
       "      <td>0</td>\n",
       "      <td>0</td>\n",
       "      <td>0</td>\n",
       "    </tr>\n",
       "    <tr>\n",
       "      <th>2</th>\n",
       "      <td>0</td>\n",
       "      <td>0</td>\n",
       "      <td>1</td>\n",
       "      <td>1</td>\n",
       "      <td>0</td>\n",
       "      <td>0</td>\n",
       "      <td>0</td>\n",
       "      <td>0</td>\n",
       "    </tr>\n",
       "    <tr>\n",
       "      <th>3</th>\n",
       "      <td>0</td>\n",
       "      <td>0</td>\n",
       "      <td>0</td>\n",
       "      <td>1</td>\n",
       "      <td>1</td>\n",
       "      <td>0</td>\n",
       "      <td>0</td>\n",
       "      <td>0</td>\n",
       "    </tr>\n",
       "    <tr>\n",
       "      <th>4</th>\n",
       "      <td>0</td>\n",
       "      <td>0</td>\n",
       "      <td>1</td>\n",
       "      <td>1</td>\n",
       "      <td>0</td>\n",
       "      <td>0</td>\n",
       "      <td>0</td>\n",
       "      <td>0</td>\n",
       "    </tr>\n",
       "    <tr>\n",
       "      <th>...</th>\n",
       "      <td>...</td>\n",
       "      <td>...</td>\n",
       "      <td>...</td>\n",
       "      <td>...</td>\n",
       "      <td>...</td>\n",
       "      <td>...</td>\n",
       "      <td>...</td>\n",
       "      <td>...</td>\n",
       "    </tr>\n",
       "    <tr>\n",
       "      <th>5493</th>\n",
       "      <td>0</td>\n",
       "      <td>1</td>\n",
       "      <td>0</td>\n",
       "      <td>0</td>\n",
       "      <td>0</td>\n",
       "      <td>1</td>\n",
       "      <td>0</td>\n",
       "      <td>0</td>\n",
       "    </tr>\n",
       "    <tr>\n",
       "      <th>5494</th>\n",
       "      <td>0</td>\n",
       "      <td>1</td>\n",
       "      <td>0</td>\n",
       "      <td>0</td>\n",
       "      <td>0</td>\n",
       "      <td>0</td>\n",
       "      <td>0</td>\n",
       "      <td>1</td>\n",
       "    </tr>\n",
       "    <tr>\n",
       "      <th>5495</th>\n",
       "      <td>0</td>\n",
       "      <td>1</td>\n",
       "      <td>0</td>\n",
       "      <td>0</td>\n",
       "      <td>0</td>\n",
       "      <td>0</td>\n",
       "      <td>0</td>\n",
       "      <td>1</td>\n",
       "    </tr>\n",
       "    <tr>\n",
       "      <th>5496</th>\n",
       "      <td>0</td>\n",
       "      <td>1</td>\n",
       "      <td>0</td>\n",
       "      <td>0</td>\n",
       "      <td>0</td>\n",
       "      <td>1</td>\n",
       "      <td>0</td>\n",
       "      <td>0</td>\n",
       "    </tr>\n",
       "    <tr>\n",
       "      <th>5497</th>\n",
       "      <td>1</td>\n",
       "      <td>1</td>\n",
       "      <td>0</td>\n",
       "      <td>0</td>\n",
       "      <td>0</td>\n",
       "      <td>0</td>\n",
       "      <td>0</td>\n",
       "      <td>0</td>\n",
       "    </tr>\n",
       "  </tbody>\n",
       "</table>\n",
       "<p>5498 rows × 8 columns</p>\n",
       "</div>"
      ],
      "text/plain": [
       "      Accusations  Hate  Neutral  Non-Hate  Positive  Promoting violence  \\\n",
       "0               0     0        1         1         0                   0   \n",
       "1               0     0        0         1         1                   0   \n",
       "2               0     0        1         1         0                   0   \n",
       "3               0     0        0         1         1                   0   \n",
       "4               0     0        1         1         0                   0   \n",
       "...           ...   ...      ...       ...       ...                 ...   \n",
       "5493            0     1        0         0         0                   1   \n",
       "5494            0     1        0         0         0                   0   \n",
       "5495            0     1        0         0         0                   0   \n",
       "5496            0     1        0         0         0                   1   \n",
       "5497            1     1        0         0         0                   0   \n",
       "\n",
       "      Sexist  Swearing  \n",
       "0          0         0  \n",
       "1          0         0  \n",
       "2          0         0  \n",
       "3          0         0  \n",
       "4          0         0  \n",
       "...      ...       ...  \n",
       "5493       0         0  \n",
       "5494       0         1  \n",
       "5495       0         1  \n",
       "5496       0         0  \n",
       "5497       0         0  \n",
       "\n",
       "[5498 rows x 8 columns]"
      ]
     },
     "execution_count": 24,
     "metadata": {},
     "output_type": "execute_result"
    }
   ],
   "source": [
    "pd.DataFrame(y,columns=multilabel.classes_)"
   ]
  },
  {
   "cell_type": "code",
   "execution_count": 25,
   "metadata": {},
   "outputs": [
    {
     "name": "stdout",
     "output_type": "stream",
     "text": [
      "(5498, 17469)\n"
     ]
    }
   ],
   "source": [
    "tfidf = TfidfVectorizer(analyzer=stopword_removal)\n",
    "\n",
    "X = tfidf.fit_transform(data_new[\"post\"])\n",
    "print(X.shape)"
   ]
  },
  {
   "cell_type": "code",
   "execution_count": 26,
   "metadata": {},
   "outputs": [
    {
     "name": "stdout",
     "output_type": "stream",
     "text": [
      "(5498, 8)\n"
     ]
    }
   ],
   "source": [
    "print(y.shape)"
   ]
  },
  {
   "cell_type": "code",
   "execution_count": null,
   "metadata": {},
   "outputs": [],
   "source": []
  },
  {
   "cell_type": "code",
   "execution_count": 27,
   "metadata": {},
   "outputs": [],
   "source": [
    "X_train, X_test, y_train, y_test = train_test_split(X, y, test_size = 0.2, random_state = 0)"
   ]
  },
  {
   "cell_type": "code",
   "execution_count": null,
   "metadata": {},
   "outputs": [],
   "source": []
  },
  {
   "cell_type": "code",
   "execution_count": 28,
   "metadata": {},
   "outputs": [],
   "source": [
    "sgd = SGDClassifier()\n",
    "lr = LogisticRegression(solver='lbfgs')\n",
    "svc = LinearSVC()"
   ]
  },
  {
   "cell_type": "code",
   "execution_count": 29,
   "metadata": {},
   "outputs": [],
   "source": [
    "def j_score(y_true, y_pred):\n",
    "    jaccard = np.minimum(y_true, y_pred).sum(axis = 1)/np.maximum(y_true, y_pred).sum(axis = 1)\n",
    "    return jaccard.mean()*100\n",
    "\n",
    "\n",
    "def print_score(y_pred, clf):\n",
    "    print(\"Clf: \", clf.__class__.__name__)\n",
    "    print('Jacard score: {}'.format(j_score(y_test, y_pred)))\n",
    "    print('----')"
   ]
  },
  {
   "cell_type": "code",
   "execution_count": 30,
   "metadata": {},
   "outputs": [
    {
     "name": "stdout",
     "output_type": "stream",
     "text": [
      "Clf:  LinearSVC\n",
      "Jacard score: 50.75757575757576\n",
      "----\n"
     ]
    }
   ],
   "source": [
    "for classifier in [LinearSVC(C=1.5, penalty = 'l1', dual=False)]:\n",
    "    clf = OneVsRestClassifier(classifier)\n",
    "    clf.fit(X_train, y_train)\n",
    "    y_pred = clf.predict(X_test)\n",
    "    print_score(y_pred, classifier)"
   ]
  },
  {
   "cell_type": "code",
   "execution_count": 31,
   "metadata": {},
   "outputs": [
    {
     "name": "stdout",
     "output_type": "stream",
     "text": [
      "Clf:  SGDClassifier\n",
      "Jacard score: 52.037878787878796\n",
      "----\n",
      "Clf:  LogisticRegression\n",
      "Jacard score: 46.39393939393939\n",
      "----\n",
      "Clf:  LinearSVC\n",
      "Jacard score: 51.85606060606061\n",
      "----\n"
     ]
    }
   ],
   "source": [
    "for classifier in [sgd, lr, svc]:\n",
    "    clf = OneVsRestClassifier(classifier)\n",
    "    clf.fit(X_train, y_train)\n",
    "    y_pred = clf.predict(X_test)\n",
    "    print_score(y_pred, classifier)\n"
   ]
  },
  {
   "cell_type": "code",
   "execution_count": null,
   "metadata": {},
   "outputs": [],
   "source": []
  },
  {
   "cell_type": "markdown",
   "metadata": {},
   "source": [
    "## RealData test"
   ]
  },
  {
   "cell_type": "code",
   "execution_count": 32,
   "metadata": {},
   "outputs": [],
   "source": [
    "your_input = ['કાર્યકરો ને મારો']"
   ]
  },
  {
   "cell_type": "code",
   "execution_count": 33,
   "metadata": {},
   "outputs": [],
   "source": [
    "xt = tfidf.transform(your_input)"
   ]
  },
  {
   "cell_type": "code",
   "execution_count": 34,
   "metadata": {},
   "outputs": [
    {
     "data": {
      "text/plain": [
       "array([[0, 1, 0, 0, 0, 1, 0, 0]])"
      ]
     },
     "execution_count": 34,
     "metadata": {},
     "output_type": "execute_result"
    }
   ],
   "source": [
    "clf.predict(xt)"
   ]
  },
  {
   "cell_type": "code",
   "execution_count": 35,
   "metadata": {},
   "outputs": [
    {
     "data": {
      "text/plain": [
       "[('Hate', 'Promoting violence')]"
      ]
     },
     "execution_count": 35,
     "metadata": {},
     "output_type": "execute_result"
    }
   ],
   "source": [
    "multilabel.inverse_transform(clf.predict(xt))"
   ]
  },
  {
   "cell_type": "code",
   "execution_count": null,
   "metadata": {},
   "outputs": [],
   "source": [
    "\n"
   ]
  }
 ],
 "metadata": {
  "kernelspec": {
   "display_name": "Python 3 (ipykernel)",
   "language": "python",
   "name": "python3"
  },
  "language_info": {
   "codemirror_mode": {
    "name": "ipython",
    "version": 3
   },
   "file_extension": ".py",
   "mimetype": "text/x-python",
   "name": "python",
   "nbconvert_exporter": "python",
   "pygments_lexer": "ipython3",
   "version": "3.9.12"
  }
 },
 "nbformat": 4,
 "nbformat_minor": 2
}
